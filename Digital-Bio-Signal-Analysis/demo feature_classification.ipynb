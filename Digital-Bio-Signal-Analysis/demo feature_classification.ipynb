{
 "cells": [
  {
   "cell_type": "markdown",
   "metadata": {
    "collapsed": true,
    "pycharm": {
     "name": "#%% md\n"
    }
   },
   "source": [
    "# Demo EMG Signal Classification\n",
    "\n",
    "## 1. Data Preparation\n",
    "\n",
    "After obtaining signal into *.csv, which follows as format of each row for signal values of `n` channels at a certain time `t` with the first row as the header name:\n",
    "\n",
    "CH1,CH2,...,CH\\<N\\>\n",
    "\\<value11\\>,\\<value12\\>,...,\\<value1N\\>\n",
    "...\n",
    "\\<valueN1\\>,\\<valueN2\\>,...,\\<valueNN\\>\n",
    "\n",
    "In this example, we perform a classifier to classify 3 classes: `HandClose`, `HandOpen` and `Normal`. We can organize files into `train`, `validation`, and  `test` set. The `train` set is used to training classification model, `validation` set is used to validate trained model and help to find the best trained model during training process, while `test` set is present as secret set to evaluation the performance of trained model under the unknown data (the data which is not included into training process). The example of the dataset organization is stored in `data/classification_data`. In `data/classification_data`, the dataset has 3 main folders: `train`, `val`, `test`. In each main folder, each sub-folder contains signal for each classification label. In practice, the ratio of `train`/`val`/`test` is usually 90/5/5 or 80/10/10 or 70/15/15.\n",
    "\n",
    "As previous demo, we need to processing the data to clean and segments them into small parts."
   ]
  },
  {
   "cell_type": "markdown",
   "metadata": {
    "collapsed": false
   },
   "source": [
    "Import packages"
   ]
  },
  {
   "cell_type": "code",
   "execution_count": 1,
   "metadata": {
    "collapsed": false,
    "pycharm": {
     "name": "#%%\n"
    }
   },
   "outputs": [],
   "source": [
    "from pathlib import Path\n",
    "import pandas as pd\n",
    "import matplotlib.pyplot as plt\n",
    "plt.style.use('seaborn-whitegrid')\n",
    "import numpy as np\n",
    "from filter import BandpassFilter1D, NotchFilter1D\n",
    "from processing import MeanShift1D, Detrend1D, Resample1D, Normalize1D\n",
    "from segment import SegmentND\n",
    "from feature_extraction import *\n",
    "%matplotlib inline"
   ]
  },
  {
   "cell_type": "markdown",
   "metadata": {
    "collapsed": false
   },
   "source": [
    "Processing functions"
   ]
  },
  {
   "cell_type": "code",
   "execution_count": 2,
   "metadata": {
    "collapsed": false,
    "pycharm": {
     "name": "#%%\n"
    }
   },
   "outputs": [],
   "source": [
    "# process signal of each channel\n",
    "def process_signal1d(x, raw_fs=1000, low_fs=1, high_fs=120, notch_fs=60, Q=20, window_size=250, step_size=50, target_fs=512):\n",
    "    \"\"\"\n",
    "    @param x: signal of a single channel\n",
    "    @param raw_fs: original sampling rate\n",
    "    @param low_fs: low cutoff frequency\n",
    "    @param high_fs: high cutoff frequency\n",
    "    @param notch_fs: notch cutoff frequency\n",
    "    @param Q: Q factor\n",
    "    @param window_size: windows size for detrending\n",
    "    @param step_size: step size for detrending\n",
    "    @param target_fs: target sampling rate for resampling step\n",
    "    \"\"\"\n",
    "    # mean-correct signal\n",
    "    x_processed = MeanShift1D.apply(x)\n",
    "    # filtering noise\n",
    "    x_processed = BandpassFilter1D.apply(x_processed, low_fs, high_fs, order=4, fs=raw_fs)\n",
    "    x_processed = NotchFilter1D.apply(x_processed, notch_fs, Q=Q, fs=raw_fs)\n",
    "    # detrend\n",
    "    x_processed = Detrend1D.apply(x_processed, detrend_type='locreg', window_size=window_size, step_size=step_size)\n",
    "    # resample\n",
    "    x_processed = Resample1D.apply(x_processed, raw_fs, target_fs)\n",
    "    # rectify\n",
    "    x_processed = abs(x_processed)\n",
    "    # normalize\n",
    "    x_processed = Normalize1D.apply(x_processed, norm_type='min_max')\n",
    "    return x_processed"
   ]
  },
  {
   "cell_type": "code",
   "execution_count": 3,
   "metadata": {
    "collapsed": false,
    "pycharm": {
     "name": "#%%\n"
    }
   },
   "outputs": [],
   "source": [
    "# process multi-channel signal\n",
    "def process_signalnd(x, raw_fs=1000, low_fs=1, high_fs=120, notch_fs=60, Q=20, window_size=250, step_size=50, target_fs=512):\n",
    "    \"\"\"\n",
    "    @param x: signal of a single channel\n",
    "    @param raw_fs: original sampling rate\n",
    "    @param low_fs: low cutoff frequency\n",
    "    @param high_fs: high cutoff frequency\n",
    "    @param notch_fs: notch cutoff frequency\n",
    "    @param Q: Q factor\n",
    "    @param window_size: windows size for detrending\n",
    "    @param step_size: step size for detrending\n",
    "    @param target_fs: target sampling rate for resampling step\n",
    "    \"\"\"\n",
    "    num_channels = x.shape[1]\n",
    "    x_processed = np.array([])\n",
    "    for i in range(num_channels):\n",
    "        # process each channel\n",
    "        channel_processed = process_signal1d(x[:, i], raw_fs, low_fs, high_fs, notch_fs, Q, window_size, step_size, target_fs)\n",
    "        channel_processed = np.expand_dims(channel_processed, axis=1)\n",
    "        if i == 0:\n",
    "            x_processed = channel_processed\n",
    "            continue\n",
    "        x_processed = np.hstack((x_processed, channel_processed))\n",
    "    return x_processed"
   ]
  },
  {
   "cell_type": "markdown",
   "metadata": {
    "collapsed": false,
    "pycharm": {
     "name": "#%% md\n"
    }
   },
   "source": [
    "Load data and segmentation."
   ]
  },
  {
   "cell_type": "code",
   "execution_count": 4,
   "metadata": {
    "collapsed": false,
    "pycharm": {
     "name": "#%%\n"
    }
   },
   "outputs": [
    {
     "name": "stdout",
     "output_type": "stream",
     "text": [
      "Number of train samples (X, Y) = (3456, 3456)\n",
      "Number of val samples   (X, Y) = (432, 432)\n",
      "Number of test samples  (X, Y) = (432, 432)\n"
     ]
    }
   ],
   "source": [
    "# parameters for clean data\n",
    "raw_fs = 1000\n",
    "target_fs = 512\n",
    "low_fs = 10\n",
    "high_fs = 120\n",
    "notch_fs = 60\n",
    "Q = 20\n",
    "windows = 512\n",
    "steps = 50\n",
    "# segment parameters\n",
    "seg_window_size = 512\n",
    "seg_step_size = 32\n",
    "# data root\n",
    "data_root = './EMG_data/classification_data'\n",
    "root = Path(data_root)\n",
    "data = {}\n",
    "label = {}\n",
    "for sub in root.iterdir():\n",
    "    data[sub.name] = [] # create list for `train`,`val`,`test data segments\n",
    "    label[sub.name] = [] # create list for label of data segments\n",
    "    for subsub in sub.iterdir():\n",
    "        if subsub.name == 'Normal':\n",
    "            y = 0   # set `Normal` class as 0\n",
    "        elif subsub.name == 'FistMedium':\n",
    "            y = 1   # set `HandOpen` class as 1\n",
    "        elif subsub.name == 'Left':\n",
    "            y = 2   # set `HandClose` class as 2\n",
    "        for filename in subsub.iterdir():\n",
    "            # load raw signal from file\n",
    "            emg_raw = pd.read_csv(str(filename)).values\n",
    "            # clean raw signal\n",
    "            emg_processed = process_signalnd(emg_raw, raw_fs, low_fs, high_fs, notch_fs, Q, windows, steps, target_fs)\n",
    "            # segment signal\n",
    "            signal_segments = SegmentND.apply(emg_processed, seg_window_size, seg_step_size)\n",
    "            data[sub.name].extend(signal_segments)\n",
    "            label[sub.name].extend([y] * len(signal_segments))\n",
    "print('Number of train samples (X, Y) = ({}, {})'.format(len(data['train']), len(label['train'])))\n",
    "print('Number of val samples   (X, Y) = ({}, {})'.format(len(data['val']), len(label['val'])))\n",
    "print('Number of test samples  (X, Y) = ({}, {})'.format(len(data['test']), len(label['test'])))"
   ]
  },
  {
   "cell_type": "markdown",
   "metadata": {
    "collapsed": false
   },
   "source": [
    "## Feature extraction\n",
    "\n",
    "Before feeding data to train classifier, we need to extract feature. We use features as described in `demo_signal_feature_extraction.ipynb`.\n",
    "\n",
    "In this example, we will try to use the Time domain features: `Maximum Peak Value`, `Mean`, `Variance`, `Standarddeviation`, `Skewness`, `Kurtosis`, `Root Mean Square`. Because these features are multi-channel features with **2D** dimension, we need to flatten them into **1D**. Moreover, we also want to combine different features together by **Concatenating** or **Pooling**. Concatenting means the feature vectors are concatenated into one final feature vector. There are 2 common **Pooling** strategies for **Pooling**: **Average Pooling** and **Max/Min Pooling**. **Average Pooling** means the average values of features is computed as the final feature vector, while **Max/Min Pooling** means the max/min values among extracted feature as the final feature vector."
   ]
  },
  {
   "cell_type": "code",
   "execution_count": 5,
   "metadata": {
    "collapsed": false,
    "pycharm": {
     "name": "#%%\n"
    }
   },
   "outputs": [
    {
     "name": "stdout",
     "output_type": "stream",
     "text": [
      "please wait....\n",
      "test\n",
      "train\n",
      "val\n",
      "Number of samples X[train]:  3456\n",
      "Number of samples X[val]:  432\n",
      "Number of samples X[test]:  432\n"
     ]
    }
   ],
   "source": [
    "# process X\n",
    "X = {}\n",
    "Y = {}\n",
    "feature_windows_size = 10\n",
    "concat = True\n",
    "avg_pool = True\n",
    "print('please wait....')\n",
    "for set in data.keys():\n",
    "    print(set)\n",
    "    Y[set] = np.array(label[set])\n",
    "    X[set] = np.array([])\n",
    "    for seg in data[set]:\n",
    "        # extract, transpose and flatten feature vectors\n",
    "        peak = MaxPeak.apply(seg, feature_windows_size).T.flatten()\n",
    "        mean = Mean.apply(seg, feature_windows_size).T.flatten()\n",
    "        var = Variance.apply(seg, feature_windows_size).T.flatten()\n",
    "        std = StandardDeviation.apply(seg, feature_windows_size).T.flatten()\n",
    "        skew = Skewness.apply(seg, feature_windows_size).T.flatten()\n",
    "        kurt = Kurtosis.apply(seg, feature_windows_size).T.flatten()\n",
    "        rms = RootMeanSquare.apply(seg, feature_windows_size).T.flatten()\n",
    "        if concat:\n",
    "            feature = np.hstack([peak, mean, var, std, skew, kurt, rms])\n",
    "            feature = np.expand_dims(feature, axis=0)\n",
    "        else:\n",
    "            feature = np.vstack([peak, mean, var, std, skew, kurt, rms])\n",
    "            if avg_pool:\n",
    "                # average pooling\n",
    "                feature = feature.mean(axis=0)\n",
    "            else:\n",
    "                # max pooling\n",
    "                feature = feature.max(axis=0)\n",
    "            feature = np.expand_dims(feature, axis=0)\n",
    "        if X[set].size == 0:\n",
    "            X[set] = feature\n",
    "            continue\n",
    "        X[set] = np.vstack([X[set], feature])\n",
    "print('Number of samples X[train]: ', len(X['train']))\n",
    "print('Number of samples X[val]: ', len(X['val']))\n",
    "print('Number of samples X[test]: ', len(X['test']))"
   ]
  },
  {
   "cell_type": "code",
   "execution_count": 6,
   "metadata": {
    "collapsed": false,
    "pycharm": {
     "name": "#%%\n"
    }
   },
   "outputs": [
    {
     "name": "stdout",
     "output_type": "stream",
     "text": [
      "Feature length of X[train]: 364\n",
      "Feature length of X[val]: 364\n",
      "Feature length of X[val]: 364\n"
     ]
    }
   ],
   "source": [
    "print('Feature length of X[train]:', X['train'].shape[1])\n",
    "print('Feature length of X[val]:', X['val'].shape[1])\n",
    "print('Feature length of X[val]:', X['test'].shape[1])"
   ]
  },
  {
   "cell_type": "markdown",
   "metadata": {
    "collapsed": false
   },
   "source": [
    "## Dimensionality Reduction\n",
    "\n",
    "One that we have obtain feature vector, in order to increase the performance of the classifier it is advisable to reduce its dimensionality by keeping the representative information in the feature vector and eliminating the redundant one from it. the resulting vector is called reduced feature vector.\n",
    "\n",
    "**Principal component analysis (PCA)** as a **feature projection** technique of dimensional reduction. It is an orthogonal linear transformation that can be used for dimensionality reduction in a signal dataset by retaining those characteristics of dataset that contribute most to its variance. In order to do this, lower-order principal components are kept and high-order ones are dismissed.\n",
    "\n",
    "We can use PCA in **scikit-learn** library to reduce feature dimensionality. Note that you apply PCA for **training process**."
   ]
  },
  {
   "cell_type": "code",
   "execution_count": 7,
   "metadata": {
    "collapsed": false,
    "pycharm": {
     "name": "#%%\n"
    }
   },
   "outputs": [],
   "source": [
    "from sklearn.decomposition import PCA"
   ]
  },
  {
   "cell_type": "code",
   "execution_count": 8,
   "metadata": {
    "collapsed": false,
    "pycharm": {
     "name": "#%%\n"
    }
   },
   "outputs": [
    {
     "name": "stdout",
     "output_type": "stream",
     "text": [
      "Feature length of X[train] 128\n"
     ]
    }
   ],
   "source": [
    "num_components = 128\n",
    "pca = PCA(n_components=num_components)\n",
    "pca.fit(X['train'])\n",
    "X['train'] = pca.transform(X['train'])\n",
    "X['val'] = pca.transform(X['val'])\n",
    "X['test'] = pca.transform(X['test'])\n",
    "print('Feature length of X[train]', X['train'].shape[1])"
   ]
  },
  {
   "cell_type": "markdown",
   "metadata": {
    "collapsed": false
   },
   "source": [
    "Save PCA to use for real-time inference."
   ]
  },
  {
   "cell_type": "code",
   "execution_count": 9,
   "metadata": {
    "collapsed": false,
    "pycharm": {
     "name": "#%%\n"
    }
   },
   "outputs": [],
   "source": [
    "import pickle as pk\n",
    "pk.dump(pca, open('pca.pkl', 'wb'))"
   ]
  },
  {
   "cell_type": "markdown",
   "metadata": {
    "collapsed": false
   },
   "source": [
    "# Classification\n",
    "\n",
    "# KNN Classifier"
   ]
  },
  {
   "cell_type": "code",
   "execution_count": 10,
   "metadata": {
    "collapsed": false,
    "pycharm": {
     "name": "#%%\n"
    }
   },
   "outputs": [],
   "source": [
    "from sklearn.neighbors import KNeighborsClassifier"
   ]
  },
  {
   "cell_type": "markdown",
   "metadata": {
    "collapsed": false
   },
   "source": [
    "You can read the document from [https://scikit-learn.org/stable/modules/generated/sklearn.neighbors.KNeighborsClassifier.html](https://scikit-learn.org/stable/modules/generated/sklearn.neighbors.KNeighborsClassifier.html) to fine-tune your model."
   ]
  },
  {
   "cell_type": "code",
   "execution_count": 11,
   "metadata": {
    "collapsed": false,
    "pycharm": {
     "name": "#%%\n"
    }
   },
   "outputs": [
    {
     "data": {
      "text/plain": [
       "KNeighborsClassifier(p=1)"
      ]
     },
     "execution_count": 11,
     "metadata": {},
     "output_type": "execute_result"
    }
   ],
   "source": [
    "K = 5\n",
    "knn_cls = KNeighborsClassifier(n_neighbors=K, p=1)\n",
    "knn_cls.fit(X['train'], Y['train'])"
   ]
  },
  {
   "cell_type": "markdown",
   "metadata": {
    "collapsed": false,
    "pycharm": {
     "name": "#%% md\n"
    }
   },
   "source": [
    "Get the prediction from input X"
   ]
  },
  {
   "cell_type": "code",
   "execution_count": 12,
   "metadata": {
    "collapsed": false,
    "pycharm": {
     "name": "#%%\n"
    }
   },
   "outputs": [],
   "source": [
    "Y_preds = knn_cls.predict(X['val'])"
   ]
  },
  {
   "cell_type": "code",
   "execution_count": 13,
   "metadata": {
    "collapsed": false,
    "pycharm": {
     "name": "#%%\n"
    }
   },
   "outputs": [],
   "source": [
    "from visualize import plot_confusion_matrix, display_model_performance"
   ]
  },
  {
   "cell_type": "markdown",
   "metadata": {
    "collapsed": false
   },
   "source": [
    "Show accuracy of model. The `display_model_performance` function helps you evaluate your train model's performance."
   ]
  },
  {
   "cell_type": "code",
   "execution_count": 14,
   "metadata": {
    "collapsed": false,
    "pycharm": {
     "name": "#%%\n"
    }
   },
   "outputs": [
    {
     "name": "stdout",
     "output_type": "stream",
     "text": [
      "Model metrics:\n",
      "------------------------------\n",
      "Accuracy: 0.5509\n",
      "Precision: 0.6791\n",
      "Recall: 0.5509\n",
      "F1 Score: 0.5027\n",
      "\n",
      "Model classification report:\n",
      "------------------------------\n",
      "              precision    recall  f1-score   support\n",
      "\n",
      "           0       0.47      1.00      0.64       144\n",
      "           1       0.73      0.47      0.57       144\n",
      "           2       0.84      0.18      0.30       144\n",
      "\n",
      "    accuracy                           0.55       432\n",
      "   macro avg       0.68      0.55      0.50       432\n",
      "weighted avg       0.68      0.55      0.50       432\n",
      "\n"
     ]
    }
   ],
   "source": [
    "display_model_performance(Y['val'], Y_preds, classes=[0, 1, 2])"
   ]
  },
  {
   "cell_type": "markdown",
   "metadata": {
    "collapsed": false
   },
   "source": [
    "Plot confusion matrix."
   ]
  },
  {
   "cell_type": "code",
   "execution_count": 15,
   "metadata": {
    "collapsed": false,
    "pycharm": {
     "name": "#%%\n"
    }
   },
   "outputs": [
    {
     "data": {
      "image/png": "[encoded data removed]",
      "text/plain": [
       "<Figure size 576x432 with 2 Axes>"
      ]
     },
     "metadata": {
      "needs_background": "light"
     },
     "output_type": "display_data"
    }
   ],
   "source": [
    "plot_confusion_matrix(Y['val'], Y_preds, labels=[0, 1, 2], save_name='VAL_KNN_CONFUSION_MATRIX')"
   ]
  },
  {
   "cell_type": "markdown",
   "metadata": {
    "collapsed": false,
    "pycharm": {
     "name": "#%% md\n"
    }
   },
   "source": [
    "## SVM Classifier"
   ]
  },
  {
   "cell_type": "code",
   "execution_count": 16,
   "metadata": {
    "collapsed": false,
    "pycharm": {
     "name": "#%%\n"
    }
   },
   "outputs": [],
   "source": [
    "from sklearn.svm import SVC"
   ]
  },
  {
   "cell_type": "markdown",
   "metadata": {
    "collapsed": false
   },
   "source": [
    "You can read the document from [https://scikit-learn.org/stable/modules/svm.html#svm](https://scikit-learn.org/stable/modules/svm.html#svm) for more understanding of using scikit-learn's SVM."
   ]
  },
  {
   "cell_type": "code",
   "execution_count": 17,
   "metadata": {
    "collapsed": false,
    "pycharm": {
     "name": "#%%\n"
    }
   },
   "outputs": [
    {
     "data": {
      "text/plain": [
       "SVC()"
      ]
     },
     "execution_count": 17,
     "metadata": {},
     "output_type": "execute_result"
    }
   ],
   "source": [
    "svc_cls = SVC()\n",
    "svc_cls.fit(X['train'], Y['train'])"
   ]
  },
  {
   "cell_type": "markdown",
   "metadata": {
    "collapsed": false
   },
   "source": [
    "Get prediction from input X."
   ]
  },
  {
   "cell_type": "code",
   "execution_count": 18,
   "metadata": {
    "collapsed": false,
    "pycharm": {
     "name": "#%%\n"
    }
   },
   "outputs": [],
   "source": [
    "Y_preds = svc_cls.predict(X['val'])"
   ]
  },
  {
   "cell_type": "markdown",
   "metadata": {
    "collapsed": false,
    "pycharm": {
     "name": "#%% md\n"
    }
   },
   "source": [
    "Show accuracy of model. The `display_model_performance` function helps you evaluate your train model's performance."
   ]
  },
  {
   "cell_type": "code",
   "execution_count": 19,
   "metadata": {
    "collapsed": false,
    "pycharm": {
     "name": "#%%\n"
    }
   },
   "outputs": [
    {
     "name": "stdout",
     "output_type": "stream",
     "text": [
      "Model metrics:\n",
      "------------------------------\n",
      "Accuracy: 0.9282\n",
      "Precision: 0.9396\n",
      "Recall: 0.9282\n",
      "F1 Score: 0.9275\n",
      "\n",
      "Model classification report:\n",
      "------------------------------\n",
      "              precision    recall  f1-score   support\n",
      "\n",
      "           0       1.00      0.99      1.00       144\n",
      "           1       0.99      0.79      0.88       144\n",
      "           2       0.83      1.00      0.91       144\n",
      "\n",
      "    accuracy                           0.93       432\n",
      "   macro avg       0.94      0.93      0.93       432\n",
      "weighted avg       0.94      0.93      0.93       432\n",
      "\n"
     ]
    }
   ],
   "source": [
    "display_model_performance(Y['val'], Y_preds, classes=[0, 1, 2])"
   ]
  },
  {
   "cell_type": "markdown",
   "metadata": {
    "collapsed": false
   },
   "source": [
    "Plot the confusion matrix."
   ]
  },
  {
   "cell_type": "code",
   "execution_count": 20,
   "metadata": {
    "collapsed": false,
    "pycharm": {
     "name": "#%%\n"
    }
   },
   "outputs": [
    {
     "data": {
      "image/png": "[encoded data removed]",
      "text/plain": [
       "<Figure size 576x432 with 2 Axes>"
      ]
     },
     "metadata": {
      "needs_background": "light"
     },
     "output_type": "display_data"
    }
   ],
   "source": [
    "plot_confusion_matrix(Y['val'], Y_preds, [0, 1, 2], save_name='VAL_SVM_CONFUSION_MATRIX')"
   ]
  },
  {
   "cell_type": "markdown",
   "metadata": {
    "collapsed": false
   },
   "source": [
    "After training a good model, which has high accuracy, you can evaluate your model by `test` set.  To enchance your model, you can **collect more data and train again**."
   ]
  },
  {
   "cell_type": "code",
   "execution_count": 21,
   "metadata": {
    "collapsed": false,
    "pycharm": {
     "name": "#%%\n"
    }
   },
   "outputs": [],
   "source": [
    "Y_test_preds = svc_cls.predict(X['test'])"
   ]
  },
  {
   "cell_type": "markdown",
   "metadata": {
    "collapsed": false
   },
   "source": [
    "Show the test accuracy."
   ]
  },
  {
   "cell_type": "code",
   "execution_count": 22,
   "metadata": {
    "collapsed": false,
    "pycharm": {
     "name": "#%%\n"
    }
   },
   "outputs": [
    {
     "data": {
      "image/png": "[encoded data removed]",
      "text/plain": [
       "<Figure size 576x432 with 2 Axes>"
      ]
     },
     "metadata": {
      "needs_background": "light"
     },
     "output_type": "display_data"
    }
   ],
   "source": [
    "plot_confusion_matrix(Y_test_preds, Y['test'], labels=[0, 1, 2], save_name='TEST_SVM_CONFUSION_MATRIX')"
   ]
  },
  {
   "cell_type": "markdown",
   "metadata": {
    "collapsed": false
   },
   "source": [
    "The results on test set show that the train model **cannot** predict well with class 0. You can **collect more data** or **change arguments in SVM function**."
   ]
  },
  {
   "cell_type": "markdown",
   "metadata": {
    "collapsed": false
   },
   "source": [
    "Save the trained model to use real-time inference."
   ]
  },
  {
   "cell_type": "code",
   "execution_count": 23,
   "metadata": {
    "collapsed": false,
    "pycharm": {
     "name": "#%%\n"
    }
   },
   "outputs": [],
   "source": [
    "pk.dump(svc_cls, open('svc.pkl', 'wb'))"
   ]
  }
 ],
 "metadata": {
  "interpreter": {
   "hash": "d9dc88e4aa9c05378aa5e64bcd0e11e2b1e5984d8afad505fdf0864ca3363bab"
  },
  "kernelspec": {
   "display_name": "Python 3.7.3 32-bit",
   "name": "python3"
  },
  "language_info": {
   "codemirror_mode": {
    "name": "ipython",
    "version": 3
   },
   "file_extension": ".py",
   "mimetype": "text/x-python",
   "name": "python",
   "nbconvert_exporter": "python",
   "pygments_lexer": "ipython3",
   "version": "3.9.1"
  }
 },
 "nbformat": 4,
 "nbformat_minor": 0
}
